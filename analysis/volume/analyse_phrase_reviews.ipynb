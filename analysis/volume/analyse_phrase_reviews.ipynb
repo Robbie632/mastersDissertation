{
 "cells": [
  {
   "cell_type": "code",
   "execution_count": 1,
   "id": "8fca751e-9aab-41fe-bcd5-d6ce5e0e2db9",
   "metadata": {},
   "outputs": [],
   "source": [
    "import pandas as pd"
   ]
  },
  {
   "cell_type": "code",
   "execution_count": 3,
   "id": "173ff148-87b0-46b9-9ae8-5e2bd63bbc31",
   "metadata": {},
   "outputs": [],
   "source": [
    "\n",
    "d = pd.read_csv(\"combined_data.csv\")"
   ]
  },
  {
   "cell_type": "code",
   "execution_count": 4,
   "id": "44c1ed73-50fa-416f-8947-ff2cd62f59f0",
   "metadata": {},
   "outputs": [
    {
     "data": {
      "text/html": [
       "<div>\n",
       "<style scoped>\n",
       "    .dataframe tbody tr th:only-of-type {\n",
       "        vertical-align: middle;\n",
       "    }\n",
       "\n",
       "    .dataframe tbody tr th {\n",
       "        vertical-align: top;\n",
       "    }\n",
       "\n",
       "    .dataframe thead th {\n",
       "        text-align: right;\n",
       "    }\n",
       "</style>\n",
       "<table border=\"1\" class=\"dataframe\">\n",
       "  <thead>\n",
       "    <tr style=\"text-align: right;\">\n",
       "      <th></th>\n",
       "      <th>phraseid</th>\n",
       "      <th>l1</th>\n",
       "      <th>l2</th>\n",
       "      <th>q1</th>\n",
       "      <th>q2</th>\n",
       "      <th>participant</th>\n",
       "    </tr>\n",
       "  </thead>\n",
       "  <tbody>\n",
       "    <tr>\n",
       "      <th>0</th>\n",
       "      <td>1</td>\n",
       "      <td>son</td>\n",
       "      <td>son</td>\n",
       "      <td>5</td>\n",
       "      <td>5</td>\n",
       "      <td>npirprirhe</td>\n",
       "    </tr>\n",
       "    <tr>\n",
       "      <th>1</th>\n",
       "      <td>2</td>\n",
       "      <td>dotter</td>\n",
       "      <td>dotter</td>\n",
       "      <td>5</td>\n",
       "      <td>5</td>\n",
       "      <td>npirprirhe</td>\n",
       "    </tr>\n",
       "    <tr>\n",
       "      <th>2</th>\n",
       "      <td>3</td>\n",
       "      <td>mother</td>\n",
       "      <td>mor</td>\n",
       "      <td>5</td>\n",
       "      <td>5</td>\n",
       "      <td>npirprirhe</td>\n",
       "    </tr>\n",
       "    <tr>\n",
       "      <th>3</th>\n",
       "      <td>4</td>\n",
       "      <td>father</td>\n",
       "      <td>far</td>\n",
       "      <td>5</td>\n",
       "      <td>5</td>\n",
       "      <td>npirprirhe</td>\n",
       "    </tr>\n",
       "    <tr>\n",
       "      <th>4</th>\n",
       "      <td>5</td>\n",
       "      <td>Hi, a black coffee please, a small one.</td>\n",
       "      <td>Hej, ett svart kaffe, tack. Ett litet.</td>\n",
       "      <td>2</td>\n",
       "      <td>2</td>\n",
       "      <td>npirprirhe</td>\n",
       "    </tr>\n",
       "  </tbody>\n",
       "</table>\n",
       "</div>"
      ],
      "text/plain": [
       "   phraseid                                       l1  \\\n",
       "0         1                                      son   \n",
       "1         2                                   dotter   \n",
       "2         3                                   mother   \n",
       "3         4                                   father   \n",
       "4         5  Hi, a black coffee please, a small one.   \n",
       "\n",
       "                                       l2  q1  q2 participant  \n",
       "0                                     son   5   5  npirprirhe  \n",
       "1                                  dotter   5   5  npirprirhe  \n",
       "2                                     mor   5   5  npirprirhe  \n",
       "3                                     far   5   5  npirprirhe  \n",
       "4  Hej, ett svart kaffe, tack. Ett litet.   2   2  npirprirhe  "
      ]
     },
     "execution_count": 4,
     "metadata": {},
     "output_type": "execute_result"
    }
   ],
   "source": [
    "d.head()"
   ]
  },
  {
   "cell_type": "code",
   "execution_count": null,
   "id": "b9228238-b0fd-4c03-a15b-6230fc2ba52c",
   "metadata": {},
   "outputs": [],
   "source": []
  },
  {
   "cell_type": "code",
   "execution_count": null,
   "id": "e54cdc9a-11a4-447d-a61f-55982a148074",
   "metadata": {},
   "outputs": [],
   "source": []
  },
  {
   "cell_type": "code",
   "execution_count": null,
   "id": "a39ea84b-4215-4526-a8f5-40991f361f61",
   "metadata": {},
   "outputs": [],
   "source": []
  },
  {
   "cell_type": "code",
   "execution_count": null,
   "id": "5e4359a0-991e-4767-9c1f-7a889e11fc1f",
   "metadata": {},
   "outputs": [],
   "source": []
  }
 ],
 "metadata": {
  "kernelspec": {
   "display_name": "Python 3 (ipykernel)",
   "language": "python",
   "name": "python3"
  },
  "language_info": {
   "codemirror_mode": {
    "name": "ipython",
    "version": 3
   },
   "file_extension": ".py",
   "mimetype": "text/x-python",
   "name": "python",
   "nbconvert_exporter": "python",
   "pygments_lexer": "ipython3",
   "version": "3.11.6"
  }
 },
 "nbformat": 4,
 "nbformat_minor": 5
}
