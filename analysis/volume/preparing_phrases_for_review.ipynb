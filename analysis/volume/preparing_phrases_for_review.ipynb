{
 "cells": [
  {
   "cell_type": "markdown",
   "id": "f5d8c995-730f-48b8-bf83-e896500391eb",
   "metadata": {},
   "source": [
    "# Phrase preperation for study 2\n",
    "## Introduction\n",
    "This script is used to Prepare phrase pairs for review as part of study 2."
   ]
  },
  {
   "cell_type": "code",
   "execution_count": 4,
   "id": "a749e818-cdef-4998-9c43-d21b812cea4c",
   "metadata": {},
   "outputs": [],
   "source": [
    "import pandas as pd"
   ]
  },
  {
   "cell_type": "code",
   "execution_count": 20,
   "id": "681a1958-a6b7-444d-9478-bd02a403b352",
   "metadata": {},
   "outputs": [],
   "source": [
    "d = pd.read_csv(\"results.csv\")"
   ]
  },
  {
   "cell_type": "code",
   "execution_count": 22,
   "id": "45b0a164-59ec-428a-a4a7-dd1fef58c45a",
   "metadata": {},
   "outputs": [
    {
     "data": {
      "text/html": [
       "<div>\n",
       "<style scoped>\n",
       "    .dataframe tbody tr th:only-of-type {\n",
       "        vertical-align: middle;\n",
       "    }\n",
       "\n",
       "    .dataframe tbody tr th {\n",
       "        vertical-align: top;\n",
       "    }\n",
       "\n",
       "    .dataframe thead th {\n",
       "        text-align: right;\n",
       "    }\n",
       "</style>\n",
       "<table border=\"1\" class=\"dataframe\">\n",
       "  <thead>\n",
       "    <tr style=\"text-align: right;\">\n",
       "      <th></th>\n",
       "      <th>l1</th>\n",
       "      <th>l2</th>\n",
       "    </tr>\n",
       "  </thead>\n",
       "  <tbody>\n",
       "    <tr>\n",
       "      <th>0</th>\n",
       "      <td>test phrase a</td>\n",
       "      <td>test phrase b</td>\n",
       "    </tr>\n",
       "    <tr>\n",
       "      <th>1</th>\n",
       "      <td>son</td>\n",
       "      <td>son</td>\n",
       "    </tr>\n",
       "    <tr>\n",
       "      <th>2</th>\n",
       "      <td>dotter</td>\n",
       "      <td>dotter</td>\n",
       "    </tr>\n",
       "    <tr>\n",
       "      <th>3</th>\n",
       "      <td>mother</td>\n",
       "      <td>mor</td>\n",
       "    </tr>\n",
       "    <tr>\n",
       "      <th>4</th>\n",
       "      <td>father</td>\n",
       "      <td>far</td>\n",
       "    </tr>\n",
       "  </tbody>\n",
       "</table>\n",
       "</div>"
      ],
      "text/plain": [
       "              l1             l2\n",
       "0  test phrase a  test phrase b\n",
       "1            son            son\n",
       "2         dotter         dotter\n",
       "3         mother            mor\n",
       "4         father            far"
      ]
     },
     "execution_count": 22,
     "metadata": {},
     "output_type": "execute_result"
    }
   ],
   "source": [
    "d.head()"
   ]
  },
  {
   "cell_type": "code",
   "execution_count": 12,
   "id": "90ea6764-ae32-4db8-b2e6-666fe4c82081",
   "metadata": {},
   "outputs": [],
   "source": [
    "d.rename(columns={\"l1\": \"English Phrase\", \"l2\": \"Swedish Phrase\"}, inplace=True)"
   ]
  },
  {
   "cell_type": "code",
   "execution_count": 14,
   "id": "63015c13-6e65-4c26-a174-d52a6002fb90",
   "metadata": {},
   "outputs": [],
   "source": [
    "d[\"The Swedish Phrase sounds natural (e.g. the phrase could have been produced by a native speaker). (1-5)\"] = \"\""
   ]
  },
  {
   "cell_type": "code",
   "execution_count": 17,
   "id": "ba2a515e-4c3e-4856-9de6-699b9e0740db",
   "metadata": {},
   "outputs": [],
   "source": [
    "d[\"The Swedish phrase is an accurate translation of the English phrase. (1-5)\"] = \"\""
   ]
  },
  {
   "cell_type": "code",
   "execution_count": 18,
   "id": "3fe89714-18c0-4931-986f-9621528bd4b5",
   "metadata": {},
   "outputs": [
    {
     "data": {
      "text/html": [
       "<div>\n",
       "<style scoped>\n",
       "    .dataframe tbody tr th:only-of-type {\n",
       "        vertical-align: middle;\n",
       "    }\n",
       "\n",
       "    .dataframe tbody tr th {\n",
       "        vertical-align: top;\n",
       "    }\n",
       "\n",
       "    .dataframe thead th {\n",
       "        text-align: right;\n",
       "    }\n",
       "</style>\n",
       "<table border=\"1\" class=\"dataframe\">\n",
       "  <thead>\n",
       "    <tr style=\"text-align: right;\">\n",
       "      <th></th>\n",
       "      <th>English Phrase</th>\n",
       "      <th>Swedish Phrase</th>\n",
       "      <th>The Swedish Phrase sounds natural (e.g. the phrase could have been produced by a native speaker). (1-5)</th>\n",
       "      <th>The Swedish phrase is an accurate translation of the English phrase. (1-5)</th>\n",
       "    </tr>\n",
       "  </thead>\n",
       "  <tbody>\n",
       "    <tr>\n",
       "      <th>0</th>\n",
       "      <td>test phrase a</td>\n",
       "      <td>test phrase b</td>\n",
       "      <td></td>\n",
       "      <td></td>\n",
       "    </tr>\n",
       "    <tr>\n",
       "      <th>1</th>\n",
       "      <td>son</td>\n",
       "      <td>son</td>\n",
       "      <td></td>\n",
       "      <td></td>\n",
       "    </tr>\n",
       "    <tr>\n",
       "      <th>2</th>\n",
       "      <td>dotter</td>\n",
       "      <td>dotter</td>\n",
       "      <td></td>\n",
       "      <td></td>\n",
       "    </tr>\n",
       "    <tr>\n",
       "      <th>3</th>\n",
       "      <td>mother</td>\n",
       "      <td>mor</td>\n",
       "      <td></td>\n",
       "      <td></td>\n",
       "    </tr>\n",
       "    <tr>\n",
       "      <th>4</th>\n",
       "      <td>father</td>\n",
       "      <td>far</td>\n",
       "      <td></td>\n",
       "      <td></td>\n",
       "    </tr>\n",
       "  </tbody>\n",
       "</table>\n",
       "</div>"
      ],
      "text/plain": [
       "  English Phrase Swedish Phrase  \\\n",
       "0  test phrase a  test phrase b   \n",
       "1            son            son   \n",
       "2         dotter         dotter   \n",
       "3         mother            mor   \n",
       "4         father            far   \n",
       "\n",
       "  The Swedish Phrase sounds natural (e.g. the phrase could have been produced by a native speaker). (1-5)  \\\n",
       "0                                                                                                           \n",
       "1                                                                                                           \n",
       "2                                                                                                           \n",
       "3                                                                                                           \n",
       "4                                                                                                           \n",
       "\n",
       "  The Swedish phrase is an accurate translation of the English phrase. (1-5)  \n",
       "0                                                                             \n",
       "1                                                                             \n",
       "2                                                                             \n",
       "3                                                                             \n",
       "4                                                                             "
      ]
     },
     "execution_count": 18,
     "metadata": {},
     "output_type": "execute_result"
    }
   ],
   "source": [
    "d.head()"
   ]
  },
  {
   "cell_type": "code",
   "execution_count": 19,
   "id": "04526c2c-33a6-4645-9974-a510b8a4d196",
   "metadata": {},
   "outputs": [],
   "source": [
    "d.to_csv(\"phrases_for_review.csv\", index=False)"
   ]
  }
 ],
 "metadata": {
  "kernelspec": {
   "display_name": "Python 3 (ipykernel)",
   "language": "python",
   "name": "python3"
  },
  "language_info": {
   "codemirror_mode": {
    "name": "ipython",
    "version": 3
   },
   "file_extension": ".py",
   "mimetype": "text/x-python",
   "name": "python",
   "nbconvert_exporter": "python",
   "pygments_lexer": "ipython3",
   "version": "3.11.6"
  }
 },
 "nbformat": 4,
 "nbformat_minor": 5
}
