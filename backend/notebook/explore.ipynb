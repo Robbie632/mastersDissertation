{
 "cells": [
  {
   "cell_type": "markdown",
   "metadata": {},
   "source": [
    "## Explore"
   ]
  },
  {
   "cell_type": "markdown",
   "metadata": {},
   "source": [
    "This notebook is running in a `docker container` and being accessed from the docker host, `volumes are mapped` which means any changes here will change the file in the rpository"
   ]
  },
  {
   "cell_type": "code",
   "execution_count": 1,
   "metadata": {},
   "outputs": [],
   "source": [
    "import os\n",
    "import pandas as pd\n",
    "os.chdir(\"..\")"
   ]
  },
  {
   "cell_type": "code",
   "execution_count": 2,
   "metadata": {},
   "outputs": [],
   "source": [
    "from src import create_app\n",
    "from src.database import db\n",
    "from src.models.phrase import Phrase\n",
    "from src.models.language import Language\n",
    "from src.models.rating import Rating\n",
    "from src.models.phraseselection import PhraseSelection\n",
    "from src.utils import query\n",
    "from sqlalchemy import text"
   ]
  },
  {
   "cell_type": "code",
   "execution_count": 3,
   "metadata": {},
   "outputs": [],
   "source": [
    "app = create_app(test=True)"
   ]
  },
  {
   "cell_type": "code",
   "execution_count": 30,
   "metadata": {},
   "outputs": [],
   "source": [
    "with app.app_context():\n",
    "    db.drop_all()"
   ]
  },
  {
   "cell_type": "code",
   "execution_count": 5,
   "metadata": {},
   "outputs": [],
   "source": [
    "# write data to db\n",
    "mock_phraseselection_data_1 = {\"userid\": \"1\", \"phraseid\": 1}\n",
    "mock_phraseselection_data_4 = {\"userid\": \"2\", \"phraseid\": 4}\n",
    "\n",
    "mock_phrase_data_1 = {\"languageid\": 2, \"userid\": \"1\",\n",
    "                              \"l1\": \"l1 phrase 1\", \"l2\": \"l2 phrase\", \"category\": \"restaurant\"}\n",
    "mock_phrase_data_2 = {\"languageid\": 2, \"userid\": \"1\",\n",
    "                              \"l1\": \"l1 phrase 2\", \"l2\": \"l2 phrase\", \"category\": \"restaurant\"}\n",
    "mock_phrase_data_3 = {\"languageid\": 2, \"userid\": \"1\",\n",
    "                              \"l1\": \"l1 phrase 3\" , \"l2\": \"l2 phrase\", \"category\": \"restaurant\"}\n",
    "mock_phrase_data_4 = {\"languageid\": 2, \"userid\": \"1\",\n",
    "                              \"l1\": \"l1 phrase 4\", \"l2\": \"l2 phrase\", \"category\": \"cafe\"}\n",
    "mock_phrase_data_5 = {\"languageid\": 2, \"userid\": \"2\",\n",
    "                              \"l1\": \"l1 phrase 4\", \"l2\": \"l2 phrase\", \"category\": \"restaurant\"}\n",
    "\n",
    "mock_rating_data_1 = {\"phraseid\": 1, \"userid\": \"1\", \"rating\": 1}\n",
    "mock_rating_data_2 = {\"phraseid\": 1, \"userid\": \"2\", \"rating\": 2}\n",
    "mock_rating_data_3 = {\"phraseid\": 1, \"userid\": \"3\", \"rating\": 4}\n",
    "mock_rating_data_4 = {\"phraseid\": 1, \"userid\": \"4\", \"rating\": 5}\n",
    "mock_rating_data_5 = {\"phraseid\": 2, \"userid\": \"5\", \"rating\": 1}\n",
    "mock_rating_data_6 = {\"phraseid\": 2, \"userid\": \"4\", \"rating\": 3}\n",
    "mock_rating_data_7 = {\"phraseid\": 3, \"userid\": \"4\", \"rating\": 5}\n",
    "mock_rating_data_8 = {\"phraseid\": 3, \"userid\": \"4\", \"rating\": 3}\n",
    "\n",
    "\n",
    "with app.app_context():\n",
    "    for mock_phrase_selection_data in [mock_phraseselection_data_1, mock_phraseselection_data_4]:\n",
    "            db.session.add(PhraseSelection(**mock_phrase_selection_data))\n",
    "            db.session.commit()\n",
    "\n",
    "    for mock_phrase_data in [mock_phrase_data_1, mock_phrase_data_2, mock_phrase_data_3, mock_phrase_data_4, mock_phrase_data_5]:\n",
    "        db.session.add(Phrase(**mock_phrase_data))\n",
    "        db.session.commit()\n",
    "        \n",
    "    for mock_rating_data in [mock_rating_data_1, mock_rating_data_2, mock_rating_data_3, \n",
    "                             mock_rating_data_4, mock_rating_data_5, mock_rating_data_6, \n",
    "                             mock_rating_data_7, mock_rating_data_8]:\n",
    "        db.session.add(Rating(**mock_rating_data))\n",
    "        db.session.commit()\n",
    "\n",
    "\n"
   ]
  },
  {
   "cell_type": "code",
   "execution_count": 11,
   "metadata": {},
   "outputs": [
    {
     "data": {
      "text/html": [
       "<div>\n",
       "<style scoped>\n",
       "    .dataframe tbody tr th:only-of-type {\n",
       "        vertical-align: middle;\n",
       "    }\n",
       "\n",
       "    .dataframe tbody tr th {\n",
       "        vertical-align: top;\n",
       "    }\n",
       "\n",
       "    .dataframe thead th {\n",
       "        text-align: right;\n",
       "    }\n",
       "</style>\n",
       "<table border=\"1\" class=\"dataframe\">\n",
       "  <thead>\n",
       "    <tr style=\"text-align: right;\">\n",
       "      <th></th>\n",
       "      <th>phraseid</th>\n",
       "      <th>l1</th>\n",
       "      <th>l2</th>\n",
       "      <th>average_rating</th>\n",
       "    </tr>\n",
       "  </thead>\n",
       "  <tbody>\n",
       "    <tr>\n",
       "      <th>0</th>\n",
       "      <td>2</td>\n",
       "      <td>l1 phrase 2</td>\n",
       "      <td>l2 phrase</td>\n",
       "      <td>None</td>\n",
       "    </tr>\n",
       "    <tr>\n",
       "      <th>1</th>\n",
       "      <td>3</td>\n",
       "      <td>l1 phrase 3</td>\n",
       "      <td>l2 phrase</td>\n",
       "      <td>None</td>\n",
       "    </tr>\n",
       "    <tr>\n",
       "      <th>2</th>\n",
       "      <td>5</td>\n",
       "      <td>l1 phrase 4</td>\n",
       "      <td>l2 phrase</td>\n",
       "      <td>None</td>\n",
       "    </tr>\n",
       "  </tbody>\n",
       "</table>\n",
       "</div>"
      ],
      "text/plain": [
       "   phraseid           l1         l2 average_rating\n",
       "0         2  l1 phrase 2  l2 phrase           None\n",
       "1         3  l1 phrase 3  l2 phrase           None\n",
       "2         5  l1 phrase 4  l2 phrase           None"
      ]
     },
     "execution_count": 11,
     "metadata": {},
     "output_type": "execute_result"
    }
   ],
   "source": [
    "with app.app_context():\n",
    "    \n",
    "    category=\"restaurant\"\n",
    "    userid=\"1\"\n",
    "    # (a) get phraseids in phraseselections for given userid\n",
    "    # (b) filter for given category\n",
    "    # (c) filter for phraseids not present from (a)\n",
    "    # (d) join to phrases on phraseid\n",
    "    # (e) join to ratings on phraseid\n",
    "    # (f) groupby phraseid AVG(rating)\n",
    "    \n",
    "    data = query_pd(f\"\"\"\n",
    "        SELECT phrases.phraseid, phrases.l1, phrases.l2, ROUND(AVG(ratings.rating), 0) AS average_rating\n",
    "        FROM phrases \n",
    "        LEFT JOIN ratings\n",
    "        ON ratings.phraseid = phrases.phraseid\n",
    "        WHERE phrases.phraseid \n",
    "        NOT IN (SELECT DISTINCT(phraseid)\n",
    "                FROM phraseselections\n",
    "                WHERE userid = '{userid}')\n",
    "        AND phrases.category = '{category}'\n",
    "        GROUP BY phrases.phraseid\n",
    "        ORDER BY average_rating DESC\n",
    "        \"\"\", db)\n",
    "    \n",
    "data.head()"
   ]
  }
 ],
 "metadata": {
  "kernelspec": {
   "display_name": "Python 3 (ipykernel)",
   "language": "python",
   "name": "python3"
  },
  "language_info": {
   "codemirror_mode": {
    "name": "ipython",
    "version": 3
   },
   "file_extension": ".py",
   "mimetype": "text/x-python",
   "name": "python",
   "nbconvert_exporter": "python",
   "pygments_lexer": "ipython3",
   "version": "3.12.2"
  }
 },
 "nbformat": 4,
 "nbformat_minor": 4
}
