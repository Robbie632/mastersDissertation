{
 "cells": [
  {
   "cell_type": "markdown",
   "metadata": {},
   "source": [
    "- identify what versions of python packages are in the docker container then pin down those versions in the requirements file\n",
    "- run the below to get to grips with SQLAlchemy syntax\n",
    "- update README with details about this notebook\n",
    "\n",
    "```for readme\n",
    "create venv python3 -m venv venv\n",
    "source venv/bin/activate\n",
    "pip install -r backend/requirements.txt\n",
    "pip install ipykernel```"
   ]
  },
  {
   "cell_type": "code",
   "execution_count": 1,
   "metadata": {},
   "outputs": [
    {
     "data": {
      "text/plain": [
       "['notebook', 'tests', 'src', 'requirements.txt']"
      ]
     },
     "execution_count": 1,
     "metadata": {},
     "output_type": "execute_result"
    }
   ],
   "source": [
    "import os\n",
    "os.chdir(\"..\")\n",
    "os.listdir()"
   ]
  },
  {
   "cell_type": "code",
   "execution_count": 2,
   "metadata": {},
   "outputs": [],
   "source": [
    "from src import create_app\n",
    "from src.database import db\n",
    "from src.models.phrase import Phrase\n",
    "from src.models.language import Language\n",
    "from src.models.rating import Rating\n",
    "from src.models.phraseselection import PhraseSelection"
   ]
  },
  {
   "cell_type": "code",
   "execution_count": 3,
   "metadata": {},
   "outputs": [],
   "source": [
    "app = create_app(test=True)"
   ]
  },
  {
   "cell_type": "code",
   "execution_count": null,
   "metadata": {},
   "outputs": [],
   "source": [
    "db_response =db.session.query(Phrase).\\\n",
    "            filter(Phrase.category == category).\\\n",
    "              filter(Phrase.userid.not_in(PhraseSelection.query.with_entities(PhraseSelection.userid).\\\n",
    "                                          filter(PhraseSelection.userid ==userid))).all()"
   ]
  }
 ],
 "metadata": {
  "kernelspec": {
   "display_name": "Python 3 (ipykernel)",
   "language": "python",
   "name": "python3"
  },
  "language_info": {
   "codemirror_mode": {
    "name": "ipython",
    "version": 3
   },
   "file_extension": ".py",
   "mimetype": "text/x-python",
   "name": "python",
   "nbconvert_exporter": "python",
   "pygments_lexer": "ipython3",
   "version": "3.12.2"
  }
 },
 "nbformat": 4,
 "nbformat_minor": 4
}
