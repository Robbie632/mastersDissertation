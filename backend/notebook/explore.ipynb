{
 "cells": [
  {
   "cell_type": "markdown",
   "metadata": {},
   "source": [
    "## Explore"
   ]
  },
  {
   "cell_type": "markdown",
   "metadata": {},
   "source": [
    "This notebook is running in a `docker container` and being accessed from the docker host, `volumes are mapped` which means any changes here will change the file in the rpository"
   ]
  },
  {
   "cell_type": "code",
   "execution_count": 1,
   "metadata": {},
   "outputs": [],
   "source": [
    "import os\n",
    "os.chdir(\"..\")"
   ]
  },
  {
   "cell_type": "code",
   "execution_count": 2,
   "metadata": {},
   "outputs": [],
   "source": [
    "from src import create_app\n",
    "from src.database import db\n",
    "from src.models.phrase import Phrase\n",
    "from src.models.language import Language\n",
    "from src.models.rating import Rating\n",
    "from src.models.phraseselection import PhraseSelection"
   ]
  },
  {
   "cell_type": "code",
   "execution_count": 3,
   "metadata": {},
   "outputs": [],
   "source": [
    "app = create_app(test=True)"
   ]
  },
  {
   "cell_type": "code",
   "execution_count": 4,
   "metadata": {},
   "outputs": [],
   "source": [
    "with app.app_context():\n",
    "    db.drop_all()"
   ]
  },
  {
   "cell_type": "code",
   "execution_count": 4,
   "metadata": {},
   "outputs": [],
   "source": [
    "# write data to db\n",
    "mock_phraseselection_data_1 = {\"userid\": \"1\", \"phraseid\": 1}\n",
    "mock_phraseselection_data_4 = {\"userid\": \"2\", \"phraseid\": 4}\n",
    "\n",
    "mock_phrase_data_1 = {\"languageid\": 2, \"userid\": \"1\",\n",
    "                              \"l1\": \"l1 phrase 1\", \"l2\": \"l2 phrase\", \"category\": \"restaurant\"}\n",
    "mock_phrase_data_2 = {\"languageid\": 2, \"userid\": \"1\",\n",
    "                              \"l1\": \"l1 phrase 2\", \"l2\": \"l2 phrase\", \"category\": \"restaurant\"}\n",
    "mock_phrase_data_3 = {\"languageid\": 2, \"userid\": \"1\",\n",
    "                              \"l1\": \"l1 phrase 3\" , \"l2\": \"l2 phrase\", \"category\": \"restaurant\"}\n",
    "mock_phrase_data_4 = {\"languageid\": 2, \"userid\": \"1\",\n",
    "                              \"l1\": \"l1 phrase 4\", \"l2\": \"l2 phrase\", \"category\": \"restaurant\"}\n",
    "mock_phrase_data_5 = {\"languageid\": 2, \"userid\": \"2\",\n",
    "                              \"l1\": \"l1 phrase 4\", \"l2\": \"l2 phrase\", \"category\": \"restaurant\"}\n",
    "\n",
    "\n",
    "with app.app_context():\n",
    "    for mock_phrase_selection_data in [mock_phraseselection_data_1, mock_phraseselection_data_4]:\n",
    "            db.session.add(PhraseSelection(userid=mock_phrase_selection_data[\"userid\"],\n",
    "                                   phraseid=mock_phrase_selection_data[\"phraseid\"]))\n",
    "            db.session.commit()\n",
    "\n",
    "    for mock_phrase_data in [mock_phrase_data_1, mock_phrase_data_2, mock_phrase_data_3, mock_phrase_data_4, mock_phrase_data_5]:\n",
    "\n",
    "        db.session.add(Phrase(languageid=mock_phrase_data[\"languageid\"],\n",
    "                              userid=mock_phrase_data[\"userid\"],\n",
    "                              l1=mock_phrase_data[\"l1\"],\n",
    "                              l2=mock_phrase_data[\"l2\"],\n",
    "                              category=mock_phrase_data[\"category\"]))\n",
    "        db.session.commit()\n",
    "\n",
    "\n"
   ]
  },
  {
   "cell_type": "code",
   "execution_count": 5,
   "metadata": {},
   "outputs": [],
   "source": [
    "with app.app_context():\n",
    "    phrases = db.session.query(Phrase).all()\n",
    "    phraseselections = db.session.query(PhraseSelection).all()"
   ]
  },
  {
   "cell_type": "code",
   "execution_count": 6,
   "metadata": {
    "scrolled": true
   },
   "outputs": [
    {
     "data": {
      "text/plain": [
       "[{'phraseid': 1,\n",
       "  'userid': '1',\n",
       "  'languageid': 2,\n",
       "  'l1': 'l1 phrase 1',\n",
       "  'l2': 'l2 phrase',\n",
       "  'category': 'restaurant'},\n",
       " {'phraseid': 2,\n",
       "  'userid': '1',\n",
       "  'languageid': 2,\n",
       "  'l1': 'l1 phrase 2',\n",
       "  'l2': 'l2 phrase',\n",
       "  'category': 'restaurant'},\n",
       " {'phraseid': 3,\n",
       "  'userid': '1',\n",
       "  'languageid': 2,\n",
       "  'l1': 'l1 phrase 3',\n",
       "  'l2': 'l2 phrase',\n",
       "  'category': 'restaurant'},\n",
       " {'phraseid': 4,\n",
       "  'userid': '1',\n",
       "  'languageid': 2,\n",
       "  'l1': 'l1 phrase 4',\n",
       "  'l2': 'l2 phrase',\n",
       "  'category': 'restaurant'},\n",
       " {'phraseid': 5,\n",
       "  'userid': '2',\n",
       "  'languageid': 2,\n",
       "  'l1': 'l1 phrase 4',\n",
       "  'l2': 'l2 phrase',\n",
       "  'category': 'restaurant'}]"
      ]
     },
     "execution_count": 6,
     "metadata": {},
     "output_type": "execute_result"
    }
   ],
   "source": [
    "[c.toDict() for c in phrases]"
   ]
  },
  {
   "cell_type": "code",
   "execution_count": 7,
   "metadata": {},
   "outputs": [
    {
     "data": {
      "text/plain": [
       "[{'phraseselectionid': 1, 'phraseid': 1, 'userid': '1'},\n",
       " {'phraseselectionid': 2, 'phraseid': 4, 'userid': '2'},\n",
       " {'phraseselectionid': 3, 'phraseid': 1, 'userid': '1'},\n",
       " {'phraseselectionid': 4, 'phraseid': 4, 'userid': '2'},\n",
       " {'phraseselectionid': 5, 'phraseid': 1, 'userid': '1'},\n",
       " {'phraseselectionid': 6, 'phraseid': 4, 'userid': '2'},\n",
       " {'phraseselectionid': 7, 'phraseid': 1, 'userid': '1'},\n",
       " {'phraseselectionid': 8, 'phraseid': 4, 'userid': '2'},\n",
       " {'phraseselectionid': 9, 'phraseid': 1, 'userid': '1'},\n",
       " {'phraseselectionid': 10, 'phraseid': 4, 'userid': '2'}]"
      ]
     },
     "execution_count": 7,
     "metadata": {},
     "output_type": "execute_result"
    }
   ],
   "source": [
    "[c.toDict() for c in phraseselections]"
   ]
  },
  {
   "cell_type": "code",
   "execution_count": 18,
   "metadata": {},
   "outputs": [],
   "source": [
    "with app.app_context():\n",
    "    phrase_selection_userids = PhraseSelection.query.filter(PhraseSelection.userid ==\"1\").all()\n",
    "    phrase_selection_userids = [p.userid for p in phrase_selection_userids]\n",
    "    db_response =db.session.query(Phrase).\\\n",
    "        filter(Phrase.category == \"restaurant\").\\\n",
    "          filter(Phrase.userid.not_in(phrase_selection_userids)).all()"
   ]
  },
  {
   "cell_type": "code",
   "execution_count": 20,
   "metadata": {},
   "outputs": [
    {
     "data": {
      "text/plain": [
       "[{'phraseid': 5,\n",
       "  'userid': '2',\n",
       "  'languageid': 2,\n",
       "  'l1': 'l1 phrase 4',\n",
       "  'l2': 'l2 phrase',\n",
       "  'category': 'restaurant'}]"
      ]
     },
     "execution_count": 20,
     "metadata": {},
     "output_type": "execute_result"
    }
   ],
   "source": [
    "[c.toDict() for c in db_response]"
   ]
  }
 ],
 "metadata": {
  "kernelspec": {
   "display_name": "Python 3 (ipykernel)",
   "language": "python",
   "name": "python3"
  },
  "language_info": {
   "codemirror_mode": {
    "name": "ipython",
    "version": 3
   },
   "file_extension": ".py",
   "mimetype": "text/x-python",
   "name": "python",
   "nbconvert_exporter": "python",
   "pygments_lexer": "ipython3",
   "version": "3.12.2"
  }
 },
 "nbformat": 4,
 "nbformat_minor": 4
}
